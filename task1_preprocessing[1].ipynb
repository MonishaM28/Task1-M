{
 "cells": [
  {
   "cell_type": "markdown",
   "id": "c4dd15f8",
   "metadata": {},
   "source": [
    "# Task 1: Data Cleaning & Preprocessing (Titanic Dataset)"
   ]
  },
  {
   "cell_type": "markdown",
   "id": "a2830ad9",
   "metadata": {},
   "source": [
    "## Step 1: Import Libraries & Dataset"
   ]
  },
  {
   "cell_type": "code",
   "execution_count": null,
   "id": "2d733618",
   "metadata": {},
   "outputs": [],
   "source": [
    "\n",
    "import pandas as pd\n",
    "import numpy as np\n",
    "import matplotlib.pyplot as plt\n",
    "import seaborn as sns\n",
    "from sklearn.preprocessing import LabelEncoder, StandardScaler\n",
    "\n",
    "# Load dataset (make sure titanic.csv is in the same folder)\n",
    "df = pd.read_csv(\"titanic.csv\")\n",
    "print(\"Shape:\", df.shape)\n",
    "df.head()\n"
   ]
  },
  {
   "cell_type": "markdown",
   "id": "75275cbc",
   "metadata": {},
   "source": [
    "## Step 2: Explore Missing Values"
   ]
  },
  {
   "cell_type": "code",
   "execution_count": null,
   "id": "67996091",
   "metadata": {},
   "outputs": [],
   "source": [
    "\n",
    "df.info()\n",
    "df.isnull().sum()\n"
   ]
  },
  {
   "cell_type": "markdown",
   "id": "6db6fbfe",
   "metadata": {},
   "source": [
    "## Step 3: Handle Missing Values"
   ]
  },
  {
   "cell_type": "code",
   "execution_count": null,
   "id": "ae5819d9",
   "metadata": {},
   "outputs": [],
   "source": [
    "\n",
    "df['Age'].fillna(df['Age'].median(), inplace=True)\n",
    "df['Embarked'].fillna(df['Embarked'].mode()[0], inplace=True)\n",
    "df.drop(columns=['Cabin'], inplace=True)\n",
    "df.isnull().sum()\n"
   ]
  },
  {
   "cell_type": "markdown",
   "id": "d3f4fa45",
   "metadata": {},
   "source": [
    "## Step 4: Encode Categorical Features"
   ]
  },
  {
   "cell_type": "code",
   "execution_count": null,
   "id": "31a938a1",
   "metadata": {},
   "outputs": [],
   "source": [
    "\n",
    "le = LabelEncoder()\n",
    "df['Sex'] = le.fit_transform(df['Sex'])  # Male=1, Female=0\n",
    "df = pd.get_dummies(df, columns=['Embarked'], drop_first=True)\n",
    "df.head()\n"
   ]
  },
  {
   "cell_type": "markdown",
   "id": "e9fa986d",
   "metadata": {},
   "source": [
    "## Step 5: Drop Irrelevant Columns"
   ]
  },
  {
   "cell_type": "code",
   "execution_count": null,
   "id": "1457d704",
   "metadata": {},
   "outputs": [],
   "source": [
    "\n",
    "df.drop(columns=['Name', 'Ticket', 'PassengerId'], inplace=True)\n",
    "df.head()\n"
   ]
  },
  {
   "cell_type": "markdown",
   "id": "bb0125be",
   "metadata": {},
   "source": [
    "## Step 6: Detect Outliers with Boxplots"
   ]
  },
  {
   "cell_type": "code",
   "execution_count": null,
   "id": "572101b5",
   "metadata": {},
   "outputs": [],
   "source": [
    "\n",
    "fig, axes = plt.subplots(1, 2, figsize=(12, 5))\n",
    "sns.boxplot(df['Age'], ax=axes[0])\n",
    "sns.boxplot(df['Fare'], ax=axes[1])\n",
    "plt.show()\n"
   ]
  },
  {
   "cell_type": "markdown",
   "id": "a01685b9",
   "metadata": {},
   "source": [
    "## Step 7: Handle Outliers using IQR"
   ]
  },
  {
   "cell_type": "code",
   "execution_count": null,
   "id": "ba3b3dc8",
   "metadata": {},
   "outputs": [],
   "source": [
    "\n",
    "for col in ['Age', 'Fare']:\n",
    "    Q1 = df[col].quantile(0.25)\n",
    "    Q3 = df[col].quantile(0.75)\n",
    "    IQR = Q3 - Q1\n",
    "    lower = Q1 - 1.5 * IQR\n",
    "    upper = Q3 + 1.5 * IQR\n",
    "    df[col] = np.where(df[col] > upper, upper,\n",
    "                np.where(df[col] < lower, lower, df[col]))\n",
    "df.head()\n"
   ]
  },
  {
   "cell_type": "markdown",
   "id": "a3d0381e",
   "metadata": {},
   "source": [
    "## Step 8: Normalize Features"
   ]
  },
  {
   "cell_type": "code",
   "execution_count": null,
   "id": "ad6f726d",
   "metadata": {},
   "outputs": [],
   "source": [
    "\n",
    "scaler = StandardScaler()\n",
    "df[['Age', 'Fare']] = scaler.fit_transform(df[['Age', 'Fare']])\n",
    "df.head()\n"
   ]
  },
  {
   "cell_type": "markdown",
   "id": "90014865",
   "metadata": {},
   "source": [
    "## Step 9: Save Cleaned Dataset"
   ]
  },
  {
   "cell_type": "code",
   "execution_count": null,
   "id": "d20af87b",
   "metadata": {},
   "outputs": [],
   "source": [
    "\n",
    "df.to_csv(\"titanic_cleaned.csv\", index=False)\n",
    "print(\"✅ Preprocessing Completed & Saved!\")\n"
   ]
  }
 ],
 "metadata": {},
 "nbformat": 4,
 "nbformat_minor": 5
}
